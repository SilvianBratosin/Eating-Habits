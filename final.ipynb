{
 "cells": [
  {
   "cell_type": "code",
   "execution_count": 19,
   "metadata": {},
   "outputs": [],
   "source": [
    "import pandas as pd\n",
    "dataset = pd.read_csv('final.csv')"
   ]
  },
  {
   "cell_type": "code",
   "execution_count": 20,
   "metadata": {},
   "outputs": [],
   "source": [
    "dataset.drop(['Unnamed: 0'], axis=1, inplace=True)"
   ]
  },
  {
   "cell_type": "code",
   "execution_count": 21,
   "metadata": {},
   "outputs": [],
   "source": [
    "columns_to_delete=['DAY', 'WEEK', 'SEASON', 'MEAL', 'PLACE', 'EATSEQ']\n",
    "dataset=dataset.drop(columns=columns_to_delete, axis=1)\n"
   ]
  },
  {
   "cell_type": "code",
   "execution_count": 22,
   "metadata": {},
   "outputs": [
    {
     "data": {
      "text/html": [
       "<div>\n",
       "<style scoped>\n",
       "    .dataframe tbody tr th:only-of-type {\n",
       "        vertical-align: middle;\n",
       "    }\n",
       "\n",
       "    .dataframe tbody tr th {\n",
       "        vertical-align: top;\n",
       "    }\n",
       "\n",
       "    .dataframe thead th {\n",
       "        text-align: right;\n",
       "    }\n",
       "</style>\n",
       "<table border=\"1\" class=\"dataframe\">\n",
       "  <thead>\n",
       "    <tr style=\"text-align: right;\">\n",
       "      <th></th>\n",
       "      <th>ORRECIPEDESC</th>\n",
       "      <th>AMOUNTFRAW</th>\n",
       "      <th>AMOUNTFCOOKED</th>\n",
       "      <th>GENDER</th>\n",
       "      <th>AGE</th>\n",
       "      <th>WEIGHT</th>\n",
       "      <th>HEIGHT</th>\n",
       "      <th>GEO</th>\n",
       "      <th>ORRECIPEDESC_encoded</th>\n",
       "      <th>cluster</th>\n",
       "      <th>BMI</th>\n",
       "    </tr>\n",
       "  </thead>\n",
       "  <tbody>\n",
       "    <tr>\n",
       "      <th>0</th>\n",
       "      <td>paine</td>\n",
       "      <td>25.0</td>\n",
       "      <td>25.0</td>\n",
       "      <td>2</td>\n",
       "      <td>34</td>\n",
       "      <td>64.0</td>\n",
       "      <td>164</td>\n",
       "      <td>12</td>\n",
       "      <td>1183</td>\n",
       "      <td>0</td>\n",
       "      <td>23.8</td>\n",
       "    </tr>\n",
       "    <tr>\n",
       "      <th>1</th>\n",
       "      <td>dulceata</td>\n",
       "      <td>25.0</td>\n",
       "      <td>25.0</td>\n",
       "      <td>2</td>\n",
       "      <td>34</td>\n",
       "      <td>64.0</td>\n",
       "      <td>164</td>\n",
       "      <td>12</td>\n",
       "      <td>692</td>\n",
       "      <td>0</td>\n",
       "      <td>23.8</td>\n",
       "    </tr>\n",
       "    <tr>\n",
       "      <th>2</th>\n",
       "      <td>lapte</td>\n",
       "      <td>250.0</td>\n",
       "      <td>250.0</td>\n",
       "      <td>2</td>\n",
       "      <td>34</td>\n",
       "      <td>64.0</td>\n",
       "      <td>164</td>\n",
       "      <td>12</td>\n",
       "      <td>912</td>\n",
       "      <td>0</td>\n",
       "      <td>23.8</td>\n",
       "    </tr>\n",
       "    <tr>\n",
       "      <th>3</th>\n",
       "      <td>paine</td>\n",
       "      <td>50.0</td>\n",
       "      <td>50.0</td>\n",
       "      <td>2</td>\n",
       "      <td>34</td>\n",
       "      <td>64.0</td>\n",
       "      <td>164</td>\n",
       "      <td>12</td>\n",
       "      <td>1183</td>\n",
       "      <td>0</td>\n",
       "      <td>23.8</td>\n",
       "    </tr>\n",
       "    <tr>\n",
       "      <th>4</th>\n",
       "      <td>cafea preparata</td>\n",
       "      <td>75.0</td>\n",
       "      <td>75.0</td>\n",
       "      <td>2</td>\n",
       "      <td>34</td>\n",
       "      <td>64.0</td>\n",
       "      <td>164</td>\n",
       "      <td>12</td>\n",
       "      <td>171</td>\n",
       "      <td>0</td>\n",
       "      <td>23.8</td>\n",
       "    </tr>\n",
       "  </tbody>\n",
       "</table>\n",
       "</div>"
      ],
      "text/plain": [
       "      ORRECIPEDESC  AMOUNTFRAW  AMOUNTFCOOKED  GENDER  AGE  WEIGHT  HEIGHT  \\\n",
       "0            paine        25.0           25.0       2   34    64.0     164   \n",
       "1         dulceata        25.0           25.0       2   34    64.0     164   \n",
       "2            lapte       250.0          250.0       2   34    64.0     164   \n",
       "3            paine        50.0           50.0       2   34    64.0     164   \n",
       "4  cafea preparata        75.0           75.0       2   34    64.0     164   \n",
       "\n",
       "   GEO  ORRECIPEDESC_encoded  cluster   BMI  \n",
       "0   12                  1183        0  23.8  \n",
       "1   12                   692        0  23.8  \n",
       "2   12                   912        0  23.8  \n",
       "3   12                  1183        0  23.8  \n",
       "4   12                   171        0  23.8  "
      ]
     },
     "execution_count": 22,
     "metadata": {},
     "output_type": "execute_result"
    }
   ],
   "source": [
    "dataset.head()"
   ]
  },
  {
   "cell_type": "code",
   "execution_count": 23,
   "metadata": {},
   "outputs": [
    {
     "data": {
      "text/plain": [
       "cluster\n",
       "0    46.239168\n",
       "1    45.384926\n",
       "2    48.176308\n",
       "Name: AGE, dtype: float64"
      ]
     },
     "execution_count": 23,
     "metadata": {},
     "output_type": "execute_result"
    }
   ],
   "source": [
    "dataset.groupby('cluster')['AGE'].mean()"
   ]
  },
  {
   "cell_type": "code",
   "execution_count": 24,
   "metadata": {},
   "outputs": [
    {
     "data": {
      "text/plain": [
       "cluster\n",
       "0    paine\n",
       "1    paine\n",
       "2     ceai\n",
       "Name: ORRECIPEDESC, dtype: object"
      ]
     },
     "execution_count": 24,
     "metadata": {},
     "output_type": "execute_result"
    }
   ],
   "source": [
    "dataset.groupby('cluster')['ORRECIPEDESC'].first()"
   ]
  }
 ],
 "metadata": {
  "kernelspec": {
   "display_name": "Python 3",
   "language": "python",
   "name": "python3"
  },
  "language_info": {
   "codemirror_mode": {
    "name": "ipython",
    "version": 3
   },
   "file_extension": ".py",
   "mimetype": "text/x-python",
   "name": "python",
   "nbconvert_exporter": "python",
   "pygments_lexer": "ipython3",
   "version": "3.11.3"
  }
 },
 "nbformat": 4,
 "nbformat_minor": 2
}
